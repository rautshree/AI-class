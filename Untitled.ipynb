{
 "cells": [
  {
   "cell_type": "code",
   "execution_count": 1,
   "metadata": {},
   "outputs": [
    {
     "name": "stdout",
     "output_type": "stream",
     "text": [
      "{'a': {'female': 1210, 'male': 4945}, 'b': {'male': 3848, 'female': 402}, 'c': {'male': 378, 'female': 96}, 'd': {'male': 1892, 'female': 262}, 'e': {'male': 75, 'female': 70}, 'f': {'male': 38, 'female': 5}, 'g': {'male': 764, 'female': 93}, 'h': {'male': 485, 'female': 60}, 'i': {'male': 239, 'female': 81}, 'j': {'male': 661, 'female': 202}, 'k': {'male': 1763, 'female': 358}, 'l': {'male': 399, 'female': 135}, 'm': {'male': 1837, 'female': 407}, 'n': {'male': 1954, 'female': 449}, 'o': {'male': 130, 'female': 20}, 'p': {'male': 3100, 'female': 819}, 'q': {'female': 2}, 'r': {'male': 3538, 'female': 766}, 's': {'male': 8842, 'female': 2439}, 't': {'male': 413, 'female': 88}, 'u': {'male': 580, 'female': 89}, 'v': {'male': 211, 'female': 11}, 'w': {'male': 16, 'female': 2}, 'y': {'male': 407, 'female': 73}, 'z': {'male': 13, 'female': 5}}\n"
     ]
    }
   ],
   "source": [
    "import csv\n",
    "import os\n",
    "import sys\n",
    "\n",
    "char_dict = {}\n",
    "with open(os.path.join(sys.path[0],'genders.csv'), 'r') as genders:\n",
    "    rows = csv.DictReader(genders)\n",
    "    for row in rows:\n",
    "        first_char  = row['name'][0]\n",
    "        gender      = row['gender']\n",
    "        count       = int(row['count'])\n",
    "        if first_char not in char_dict:\n",
    "            char_dict[first_char] = {}\n",
    "        if gender not in char_dict[first_char]:\n",
    "            char_dict[first_char][gender] = 0\n",
    "        char_dict[first_char][gender] += count\n",
    "\n",
    "print(char_dict)"
   ]
  },
  {
   "cell_type": "code",
   "execution_count": null,
   "metadata": {},
   "outputs": [],
   "source": []
  }
 ],
 "metadata": {
  "kernelspec": {
   "display_name": "Python 3",
   "language": "python",
   "name": "python3"
  },
  "language_info": {
   "codemirror_mode": {
    "name": "ipython",
    "version": 3
   },
   "file_extension": ".py",
   "mimetype": "text/x-python",
   "name": "python",
   "nbconvert_exporter": "python",
   "pygments_lexer": "ipython3",
   "version": "3.6.4"
  }
 },
 "nbformat": 4,
 "nbformat_minor": 2
}

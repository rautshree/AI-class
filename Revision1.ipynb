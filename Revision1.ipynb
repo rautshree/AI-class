{
 "cells": [
  {
   "cell_type": "code",
   "execution_count": null,
   "metadata": {},
   "outputs": [],
   "source": [
    "import numpy as np\n",
    "import pandas as pd\n",
    "import matplotlib.pyplot as plt"
   ]
  },
  {
   "cell_type": "markdown",
   "metadata": {},
   "source": [
    "## Python Basics"
   ]
  },
  {
   "cell_type": "markdown",
   "metadata": {},
   "source": [
    "Q. Pick out 'Nepal' and 'Pakistan' from the list"
   ]
  },
  {
   "cell_type": "code",
   "execution_count": null,
   "metadata": {},
   "outputs": [],
   "source": [
    "l = ['Bhutan', 'India', 'Nepal', 'Pakistan', 'Sri Lanka']"
   ]
  },
  {
   "cell_type": "code",
   "execution_count": null,
   "metadata": {},
   "outputs": [],
   "source": [
    "# Code Here"
   ]
  },
  {
   "cell_type": "markdown",
   "metadata": {},
   "source": [
    "Q. Write a program that prints the numbers from 1 to 30. But for multiples of three print \"Fizz\" instead of the number and for the multiples of five print \"Buzz\". For numbers which are multiples of both three and five print \"FizzBuzz\""
   ]
  },
  {
   "cell_type": "code",
   "execution_count": null,
   "metadata": {},
   "outputs": [],
   "source": [
    "# Code Here"
   ]
  },
  {
   "cell_type": "markdown",
   "metadata": {},
   "source": [
    "Alternatively, rearrange the lines below to form the solution. For each line, keep indentation as-is."
   ]
  },
  {
   "cell_type": "raw",
   "metadata": {},
   "source": [
    "    elif i % 5 == 0:\n",
    "    else:\n",
    "    if i % 3 == 0 and i % 5 == 0:\n",
    "    elif i % 3 == 0:    \n",
    "        print('Fizz')\n",
    "        print('Buzz')\n",
    "        print(i)\n",
    "        print('FizzBuzz')\n",
    "for i in range(1, 31):"
   ]
  },
  {
   "cell_type": "markdown",
   "metadata": {},
   "source": [
    "Q. Write a function that takes a list of list of ints and returns the sum"
   ]
  },
  {
   "cell_type": "code",
   "execution_count": null,
   "metadata": {},
   "outputs": [],
   "source": [
    "# Code Here"
   ]
  },
  {
   "cell_type": "markdown",
   "metadata": {},
   "source": [
    "Or rearrange these lines:"
   ]
  },
  {
   "cell_type": "raw",
   "metadata": {},
   "source": [
    "    return total_sum \n",
    "    for l in list_of_lists:\n",
    "    total_sum = 0\n",
    "        total_sum += sum(l)\n",
    "def sum_lists(list_of_lists):"
   ]
  },
  {
   "cell_type": "code",
   "execution_count": null,
   "metadata": {},
   "outputs": [],
   "source": [
    "assert sum_lists([[1, 2], [4, 6, 10]]) == 23"
   ]
  },
  {
   "cell_type": "markdown",
   "metadata": {},
   "source": [
    "Extra: Rewrite as list comprehension if you haven't."
   ]
  },
  {
   "cell_type": "markdown",
   "metadata": {},
   "source": [
    "Really extra: Write a function to sum arbitrarily deep lists."
   ]
  },
  {
   "cell_type": "markdown",
   "metadata": {},
   "source": [
    "Q. Write a function `make_dict` that takes a list of keys and a list of values and returns a dictionary with corresponding key, value pairs."
   ]
  },
  {
   "cell_type": "code",
   "execution_count": null,
   "metadata": {},
   "outputs": [],
   "source": [
    "# Code Here"
   ]
  },
  {
   "cell_type": "markdown",
   "metadata": {},
   "source": [
    "Or rearrange these lines"
   ]
  },
  {
   "cell_type": "raw",
   "metadata": {},
   "source": [
    "    d = {}\n",
    "    return d\n",
    "def make_dict(keys, values):\n",
    "        d[key] = value\n",
    "    for key, value in zip(keys, values):"
   ]
  },
  {
   "cell_type": "code",
   "execution_count": null,
   "metadata": {},
   "outputs": [],
   "source": [
    "assert make_dict(['A', 'B'], [1, 2]) == {'A': 1, 'B': 2}"
   ]
  },
  {
   "cell_type": "markdown",
   "metadata": {},
   "source": [
    "Q. Create a class `Country` that has two properties `name` and `continent`. It should have a method `location_string()` that returns the properties as `'__ is in __'`. Eg: `'Nepal is in Asia'`."
   ]
  },
  {
   "cell_type": "code",
   "execution_count": null,
   "metadata": {},
   "outputs": [],
   "source": [
    "# Code Here"
   ]
  },
  {
   "cell_type": "markdown",
   "metadata": {},
   "source": [
    "Or rearrange these lines"
   ]
  },
  {
   "cell_type": "raw",
   "metadata": {},
   "source": [
    "    def location_string(self):\n",
    "    def __init__(self, name, continent):\n",
    "        return '{} is in {}'.format(self.name, self.continent)\n",
    "class Country:\n",
    "        self.name = name\n",
    "        self.continent = continent"
   ]
  },
  {
   "cell_type": "code",
   "execution_count": null,
   "metadata": {},
   "outputs": [],
   "source": [
    "c = Country('Nepal', 'Asia')\n",
    "assert c.location_string() == 'Nepal is in Asia'"
   ]
  },
  {
   "cell_type": "markdown",
   "metadata": {},
   "source": [
    "## Numpy"
   ]
  },
  {
   "cell_type": "markdown",
   "metadata": {},
   "source": [
    "Q. Select the values in `a` that are multiples of 10 and greater than 15."
   ]
  },
  {
   "cell_type": "code",
   "execution_count": null,
   "metadata": {},
   "outputs": [],
   "source": [
    "a = np.arange(1, 51, 5)"
   ]
  },
  {
   "cell_type": "code",
   "execution_count": null,
   "metadata": {},
   "outputs": [],
   "source": [
    "# Code Here"
   ]
  },
  {
   "cell_type": "markdown",
   "metadata": {},
   "source": [
    "Q. Select the last three rows of the middle two columns"
   ]
  },
  {
   "cell_type": "code",
   "execution_count": null,
   "metadata": {},
   "outputs": [],
   "source": [
    "vals = np.arange(16).reshape(4, 4)\n",
    "vals"
   ]
  },
  {
   "cell_type": "code",
   "execution_count": null,
   "metadata": {},
   "outputs": [],
   "source": [
    "# Code Here"
   ]
  },
  {
   "cell_type": "markdown",
   "metadata": {},
   "source": [
    "## Pandas"
   ]
  },
  {
   "cell_type": "markdown",
   "metadata": {},
   "source": [
    "Q. Create a DataFrame `df` from the data below. Each row should be a person and each column should be a subject."
   ]
  },
  {
   "cell_type": "code",
   "execution_count": null,
   "metadata": {},
   "outputs": [],
   "source": [
    "marks = np.array([[30, 50, 90],\n",
    "                  [78, 60, 82],\n",
    "                  [38, 32, 50],\n",
    "                  [79, 80, 92],\n",
    "                  [94, 81, 60]])\n",
    "\n",
    "names = np.array(['Alice', 'Bob', 'Chris', 'Dylan', 'Eva'])\n",
    "subjects = np.array(['Maths', 'Science', 'English'])"
   ]
  },
  {
   "cell_type": "markdown",
   "metadata": {},
   "source": [
    "Who got the highest total marks?"
   ]
  },
  {
   "cell_type": "code",
   "execution_count": null,
   "metadata": {},
   "outputs": [],
   "source": [
    "# Code Here"
   ]
  },
  {
   "cell_type": "markdown",
   "metadata": {},
   "source": [
    "How many people failed in Maths? (Assume 40 is the pass marks)"
   ]
  },
  {
   "cell_type": "code",
   "execution_count": null,
   "metadata": {},
   "outputs": [],
   "source": [
    "# Code Here"
   ]
  },
  {
   "cell_type": "markdown",
   "metadata": {},
   "source": [
    "Which is the most difficult subject? (Assume subject with lowest total marks is the most difficult)"
   ]
  },
  {
   "cell_type": "code",
   "execution_count": null,
   "metadata": {},
   "outputs": [],
   "source": [
    "# Code Here"
   ]
  }
 ],
 "metadata": {
  "kernelspec": {
   "display_name": "Python 3",
   "language": "python",
   "name": "python3"
  },
  "language_info": {
   "codemirror_mode": {
    "name": "ipython",
    "version": 3
   },
   "file_extension": ".py",
   "mimetype": "text/x-python",
   "name": "python",
   "nbconvert_exporter": "python",
   "pygments_lexer": "ipython3",
   "version": "3.6.5"
  }
 },
 "nbformat": 4,
 "nbformat_minor": 2
}

{
 "cells": [
  {
   "cell_type": "code",
   "execution_count": 1,
   "metadata": {},
   "outputs": [
    {
     "name": "stdout",
     "output_type": "stream",
     "text": [
      "#b3Y5\n"
     ]
    }
   ],
   "source": [
    "\n",
    "import random  #password generator\n",
    "\n",
    "s = \"abcdefghijklmnopqrstuvwxyz01234567890ABCDEFGHIJKLMNOPQRSTUVWXYZ!@#$%^&*()?\"\n",
    "passlen = 5\n",
    "p =  \"\".join(random.sample(s,passlen ))\n",
    "print (p)"
   ]
  },
  {
   "cell_type": "code",
   "execution_count": 5,
   "metadata": {},
   "outputs": [
    {
     "name": "stdout",
     "output_type": "stream",
     "text": [
      "What's your guess?8\n",
      "You got it!\n",
      "And it only took you 1 tries!\n"
     ]
    }
   ],
   "source": [
    "import random\n",
    "\n",
    "number = random.randint(1,9)\n",
    "guess = 0\n",
    "count = 0\n",
    "\n",
    "\n",
    "while guess != number and guess != \"exit\":\n",
    "    guess = input(\"What's your guess?\")\n",
    "    \n",
    "    if guess == \"exit\":\n",
    "        break\n",
    "    \n",
    "    guess = int(guess)\n",
    "    count += 1\n",
    "    \n",
    "    if guess < number:\n",
    "        print(\"Too low!\")\n",
    "    elif guess > number:\n",
    "        print(\"Too high!\")\n",
    "    else:\n",
    "        print(\"You got it!\")\n",
    "print(\"And it only took you\",count,\"tries!\")"
   ]
  },
  {
   "cell_type": "code",
   "execution_count": 1,
   "metadata": {
    "scrolled": true
   },
   "outputs": [
    {
     "ename": "ModuleNotFoundError",
     "evalue": "No module named 'winsound'",
     "output_type": "error",
     "traceback": [
      "\u001b[0;31m---------------------------------------------------------------------------\u001b[0m",
      "\u001b[0;31mModuleNotFoundError\u001b[0m                       Traceback (most recent call last)",
      "\u001b[0;32m<ipython-input-1-90b0647cd51a>\u001b[0m in \u001b[0;36m<module>\u001b[0;34m()\u001b[0m\n\u001b[0;32m----> 1\u001b[0;31m \u001b[0;32mimport\u001b[0m \u001b[0mwinsound\u001b[0m\u001b[0;34m,\u001b[0m \u001b[0mtime\u001b[0m\u001b[0;34m,\u001b[0m \u001b[0mos\u001b[0m\u001b[0;34m,\u001b[0m \u001b[0mplatform\u001b[0m\u001b[0;34m\u001b[0m\u001b[0m\n\u001b[0m\u001b[1;32m      2\u001b[0m \u001b[0;34m\u001b[0m\u001b[0m\n\u001b[1;32m      3\u001b[0m \u001b[0;34m\u001b[0m\u001b[0m\n\u001b[1;32m      4\u001b[0m \u001b[0;32mdef\u001b[0m \u001b[0msound\u001b[0m\u001b[0;34m(\u001b[0m\u001b[0;34m)\u001b[0m\u001b[0;34m:\u001b[0m\u001b[0;34m\u001b[0m\u001b[0m\n\u001b[1;32m      5\u001b[0m \u001b[0;34m\u001b[0m\u001b[0m\n",
      "\u001b[0;31mModuleNotFoundError\u001b[0m: No module named 'winsound'"
     ]
    }
   ],
   "source": [
    "import winsound, time, os, platform\n",
    "\n",
    "\n",
    "def sound():\n",
    "\n",
    "\tfor i in range(2): # Number of repeats\n",
    "\t\t\n",
    "\t\tfor j in range(9): # Number of beeps\n",
    "\t\t\t\n",
    "\t\t\twinsound.MessageBeep(-1) # Sound played\n",
    "\t\t\n",
    "\t\ttime.sleep(2) # How long between beeps\n",
    "\n",
    "def alarm(n):\n",
    "\t\n",
    "\tprint()\n",
    "\tprint(\"Wait time:\", n, \"seconds.\")\n",
    "\ttime.sleep(n) # Waits 'n' seconds before playing sound\n",
    "\t\n",
    "\tsound()\n",
    "\n",
    "def input_destinations(user_input):\n",
    "\n",
    "\tif user_input == '1':\n",
    "\t\t\n",
    "\t\tuser_input = int(input(\"Enter the desired hours: \"))\n",
    "\t\t\n",
    "\t\twait_time = (user_input * 60) * 60\n",
    "\t\talarm(wait_time)\n",
    "\t\n",
    "\telif user_input == '2':\n",
    "\t\t\n",
    "\t\tuser_input = int(input(\"Enter the desired minutes: \"))\n",
    "\t\t\n",
    "\t\twait_time = user_input * 60\n",
    "\t\talarm(wait_time)\n",
    "\n",
    "\telif user_input == '3':\n",
    "\n",
    "\t\tuser_input = int(input(\"Enter the desired seconds: \"))\n",
    "\n",
    "\t\twait_time = user_input\n",
    "\t\talarm(wait_time)\n",
    "\n",
    "\telif user_input == '4':\n",
    "\n",
    "\t\thours = int(input(\"Hours: \"))\n",
    "\t\tminutes = int(input(\"Minutes: \"))\n",
    "\t\tseconds = int(input(\"Seconds: \"))\n",
    "\n",
    "\t\twait_time = ((hours*60)*60) + (minutes*60) + seconds\n",
    "\t\tprint(wait_time)\n",
    "\t\talarm(wait_time)\n",
    "\n",
    "\telse:\n",
    "\t\t\n",
    "\t\ttry:\n",
    "\t\t\tos.system('cls') # If OS is Windows\n",
    "\t\t\tmain()\n",
    "\t\t\t\n",
    "\t\texcept:\n",
    "\t\t\tos.system('clear') # If OS is Linux or Mac\n",
    "\t\t\tmain()\n",
    "\n",
    "def main():\n",
    "\tprint(\"What unit of time do you want to wait?\\n (1) Hours\\n (2) Minutes\\n (3) Seconds\\n (4) Combination\")\n",
    "\tmain_input = input(\": \")\n",
    "\t\n",
    "\tinput_destinations(main_input)\n",
    "\n",
    "\treturn;\n",
    "\n",
    "main()"
   ]
  },
  {
   "cell_type": "code",
   "execution_count": null,
   "metadata": {},
   "outputs": [],
   "source": []
  }
 ],
 "metadata": {
  "kernelspec": {
   "display_name": "Python 3",
   "language": "python",
   "name": "python3"
  },
  "language_info": {
   "codemirror_mode": {
    "name": "ipython",
    "version": 3
   },
   "file_extension": ".py",
   "mimetype": "text/x-python",
   "name": "python",
   "nbconvert_exporter": "python",
   "pygments_lexer": "ipython3",
   "version": "3.6.4"
  }
 },
 "nbformat": 4,
 "nbformat_minor": 2
}
